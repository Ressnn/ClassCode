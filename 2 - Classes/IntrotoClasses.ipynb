{
 "cells": [
  {
   "cell_type": "markdown",
   "metadata": {},
   "source": [
    "# All About Classes"
   ]
  },
  {
   "cell_type": "markdown",
   "metadata": {},
   "source": [
    "### Objects and Classes"
   ]
  },
  {
   "cell_type": "markdown",
   "metadata": {},
   "source": [
    "1. Everything physical can be represented as the sum of objects.\n",
    "2. Objects Store information in themselves (As their state)\n",
    "3. Most Objects can be generalized"
   ]
  },
  {
   "cell_type": "markdown",
   "metadata": {},
   "source": [
    "Before we delve into any actual programming imagine pick any real world object around you. It stores information (color, shape, ect.) in it's state and is also likley made up of other sub-objects. If you know what to call it then that means that it also can be generalized into a greater class.\n",
    "\n",
    "You -> Human -> Object\n",
    "Dog -> Animal -> Object\n",
    "Alien -> Organism -> Object\n",
    "Meteor -> Spatial Bodies -> Object\n",
    "\n",
    "We can also go the other way (which is how objects are usually created)\n",
    "\n",
    "Human -> You \n",
    "Animal -> Dog\n",
    "Organism -> Alien\n",
    "Spatial Bodies -> Meteor"
   ]
  },
  {
   "cell_type": "markdown",
   "metadata": {},
   "source": [
    "### basic class that does nothing and stores nothing"
   ]
  },
  {
   "cell_type": "code",
   "execution_count": 46,
   "metadata": {},
   "outputs": [],
   "source": [
    "class Basic():\n",
    "    pass"
   ]
  },
  {
   "cell_type": "markdown",
   "metadata": {},
   "source": [
    "Defining a class is a lot like defining a function you type in class [classname](inhertedobjects):  to start a class past the indent"
   ]
  },
  {
   "cell_type": "markdown",
   "metadata": {},
   "source": [
    "### Functions and Classes"
   ]
  },
  {
   "cell_type": "code",
   "execution_count": 24,
   "metadata": {},
   "outputs": [],
   "source": [
    "class Dog():\n",
    "    def bark():\n",
    "        return \"barking\"\n",
    "    def Isscared():\n",
    "        return False"
   ]
  },
  {
   "cell_type": "markdown",
   "metadata": {},
   "source": [
    "We can put functions inside of classes to give the objects created from these classes things to do. The resulting dog object in this case can bark"
   ]
  },
  {
   "cell_type": "markdown",
   "metadata": {},
   "source": [
    "### The __init__ function"
   ]
  },
  {
   "cell_type": "code",
   "execution_count": 51,
   "metadata": {},
   "outputs": [],
   "source": [
    "class Dog():\n",
    "    def __init__(self,fur_color,age):\n",
    "        self.fur_color = fur_color\n",
    "        self.age = age\n",
    "    def bark(self):\n",
    "        return \"barking\"\n",
    "    def scared(self):\n",
    "        return False\n",
    "    def eat(self):\n",
    "        return 20-self.age"
   ]
  },
  {
   "cell_type": "markdown",
   "metadata": {},
   "source": [
    "By using the __init__ function we can store properties about the dog inside of it when it is created\n",
    "\n",
    "In the example above we store the age and the fur_color"
   ]
  },
  {
   "cell_type": "markdown",
   "metadata": {},
   "source": [
    "## Making an Object"
   ]
  },
  {
   "cell_type": "markdown",
   "metadata": {},
   "source": [
    "In the code above we defined how to make a dog, but never actually made one to actually make one you have to run the line below"
   ]
  },
  {
   "cell_type": "code",
   "execution_count": 52,
   "metadata": {},
   "outputs": [],
   "source": [
    "myDog = Dog(\"orange\",4)"
   ]
  },
  {
   "cell_type": "code",
   "execution_count": 53,
   "metadata": {},
   "outputs": [
    {
     "data": {
      "text/plain": [
       "16"
      ]
     },
     "execution_count": 53,
     "metadata": {},
     "output_type": "execute_result"
    }
   ],
   "source": [
    "myDog.eat()"
   ]
  },
  {
   "cell_type": "markdown",
   "metadata": {},
   "source": [
    "### Excercise 1"
   ]
  },
  {
   "cell_type": "markdown",
   "metadata": {},
   "source": [
    "Make me a new class called car give it number of wheels (in the init function) and add a drive function"
   ]
  },
  {
   "cell_type": "code",
   "execution_count": 54,
   "metadata": {},
   "outputs": [],
   "source": [
    "class Car():\n",
    "    def __init__(self,wheels):\n",
    "        self.wheels = wheels\n",
    "    def drive(self):\n",
    "        return \"Driving\""
   ]
  },
  {
   "cell_type": "markdown",
   "metadata": {},
   "source": [
    "### Excercise 2"
   ]
  },
  {
   "cell_type": "markdown",
   "metadata": {},
   "source": [
    "Make a class called employee with an age and a height and travel distance"
   ]
  },
  {
   "cell_type": "code",
   "execution_count": 60,
   "metadata": {},
   "outputs": [],
   "source": [
    "class Employee():\n",
    "    def __init__(self,age, height, travel):\n",
    "        self.age = age\n",
    "        self.height = height\n",
    "        self.travel = travel"
   ]
  },
  {
   "cell_type": "markdown",
   "metadata": {},
   "source": [
    "Now Make a company class where I specify the number of Employees by giving a list of charechteristics. Plug this into a Company class with a list of the generated employees."
   ]
  },
  {
   "cell_type": "code",
   "execution_count": 61,
   "metadata": {},
   "outputs": [
    {
     "data": {
      "text/plain": [
       "[<__main__.Employee at 0x271c2e76400>,\n",
       " <__main__.Employee at 0x271c2e76438>,\n",
       " <__main__.Employee at 0x271c2e76470>]"
      ]
     },
     "execution_count": 61,
     "metadata": {},
     "output_type": "execute_result"
    }
   ],
   "source": [
    "employee_List = [[21,70,1],[17,71,10],[23,60,10]]\n",
    "\n",
    "class Company():\n",
    "    def __init__(self,employee_features):\n",
    "        self.employees = []\n",
    "        for prospecting_employee in employee_features:\n",
    "            age = prospecting_employee[0]\n",
    "            height = prospecting_employee[1]\n",
    "            travel = prospecting_employee[2]\n",
    "            self.employees.append(Employee(age,height,travel))\n",
    "            \n",
    "Ls = Company(employee_List)\n",
    "Ls.employees"
   ]
  },
  {
   "cell_type": "code",
   "execution_count": null,
   "metadata": {},
   "outputs": [],
   "source": []
  }
 ],
 "metadata": {
  "kernelspec": {
   "display_name": "Python 3",
   "language": "python",
   "name": "python3"
  },
  "language_info": {
   "codemirror_mode": {
    "name": "ipython",
    "version": 3
   },
   "file_extension": ".py",
   "mimetype": "text/x-python",
   "name": "python",
   "nbconvert_exporter": "python",
   "pygments_lexer": "ipython3",
   "version": "3.5.6"
  }
 },
 "nbformat": 4,
 "nbformat_minor": 4
}
