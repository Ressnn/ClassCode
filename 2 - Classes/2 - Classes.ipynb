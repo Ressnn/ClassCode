{
 "cells": [
  {
   "cell_type": "markdown",
   "metadata": {},
   "source": [
    "# All About Classes"
   ]
  },
  {
   "cell_type": "markdown",
   "metadata": {},
   "source": [
    "### Objects and Classes"
   ]
  },
  {
   "cell_type": "markdown",
   "metadata": {},
   "source": [
    "1. Everything physical can be represented as the sum of objects.\n",
    "2. Objects Store information in themselves (As their state)\n",
    "3. Most Objects can be generalized"
   ]
  },
  {
   "cell_type": "markdown",
   "metadata": {},
   "source": [
    "Before we delve into any actual programming imagine pick any real world object around you. It stores information (color, shape, ect.) in it's state and is also likley made up of other sub-objects. If you know what to call it then that means that it also can be generalized into a greater class.\n",
    "\n",
    "You -> Human -> Object\n",
    "Dog -> Animal -> Object\n",
    "Alien -> Organism -> Object\n",
    "Meteor -> Spatial Bodies -> Object\n",
    "\n",
    "We can also go the other way (which is how objects are usually created)\n",
    "\n",
    "Human -> You \n",
    "Animal -> Dog\n",
    "Organism -> Alien\n",
    "Spatial Bodies -> Meteor"
   ]
  },
  {
   "cell_type": "markdown",
   "metadata": {},
   "source": [
    "### basic class that does nothing and stores nothing"
   ]
  },
  {
   "cell_type": "code",
   "execution_count": 46,
   "metadata": {},
   "outputs": [],
   "source": [
    "class Basic():\n",
    "    pass"
   ]
  },
  {
   "cell_type": "markdown",
   "metadata": {},
   "source": [
    "Defining a class is a lot like defining a function you type in class [classname](inhertedobjects):  to start a class past the indent"
   ]
  },
  {
   "cell_type": "markdown",
   "metadata": {},
   "source": [
    "### Functions and Classes"
   ]
  },
  {
   "cell_type": "code",
   "execution_count": 24,
   "metadata": {},
   "outputs": [],
   "source": [
    "class Dog():\n",
    "    def bark():\n",
    "        return \"barking\"\n",
    "    def Isscared():\n",
    "        return False"
   ]
  },
  {
   "cell_type": "markdown",
   "metadata": {},
   "source": [
    "We can put functions inside of classes to give the objects created from these classes things to do. The resulting dog object in this case can bark"
   ]
  },
  {
   "cell_type": "markdown",
   "metadata": {},
   "source": [
    "### The __init__ function"
   ]
  },
  {
   "cell_type": "code",
   "execution_count": 51,
   "metadata": {},
   "outputs": [],
   "source": [
    "class Dog():\n",
    "    def __init__(self,fur_color,age):\n",
    "        self.fur_color = fur_color\n",
    "        self.age = age\n",
    "    def bark(self):\n",
    "        return \"barking\"\n",
    "    def scared(self):\n",
    "        return False\n",
    "    def eat(self):\n",
    "        return 20-self.age"
   ]
  },
  {
   "cell_type": "markdown",
   "metadata": {},
   "source": [
    "By using the __init__ function we can store properties about the dog inside of it when it is created\n",
    "\n",
    "In the example above we store the age and the fur_color"
   ]
  },
  {
   "cell_type": "markdown",
   "metadata": {},
   "source": [
    "## Making an Object"
   ]
  },
  {
   "cell_type": "markdown",
   "metadata": {},
   "source": [
    "In the code above we defined how to make a dog, but never actually made one to actually make one you have to run the line below"
   ]
  },
  {
   "cell_type": "code",
   "execution_count": 52,
   "metadata": {},
   "outputs": [],
   "source": [
    "myDog = Dog(\"orange\",4)"
   ]
  },
  {
   "cell_type": "code",
   "execution_count": 53,
   "metadata": {},
   "outputs": [
    {
     "data": {
      "text/plain": [
       "16"
      ]
     },
     "execution_count": 53,
     "metadata": {},
     "output_type": "execute_result"
    }
   ],
   "source": [
    "myDog.eat()"
   ]
  },
  {
   "cell_type": "markdown",
   "metadata": {},
   "source": [
    "### Excercise 1"
   ]
  },
  {
   "cell_type": "markdown",
   "metadata": {},
   "source": [
    "Make me a new class called car give it number of wheels (in the init function) and add a drive function"
   ]
  },
  {
   "cell_type": "code",
   "execution_count": 54,
   "metadata": {},
   "outputs": [],
   "source": [
    "class Car():\n",
    "    def __init__(self,wheels):\n",
    "        self.wheels = wheels\n",
    "    def drive(self):\n",
    "        return \"Driving\""
   ]
  },
  {
   "cell_type": "markdown",
   "metadata": {},
   "source": [
    "### Excercise 2"
   ]
  },
  {
   "cell_type": "markdown",
   "metadata": {},
   "source": [
    "Make a class called employee with an age and a height and travel distance"
   ]
  },
  {
   "cell_type": "code",
   "execution_count": 60,
   "metadata": {},
   "outputs": [],
   "source": [
    "class Employee():\n",
    "    def __init__(self,age, height, travel):\n",
    "        self.age = age\n",
    "        self.height = height\n",
    "        self.travel = travel"
   ]
  },
  {
   "cell_type": "markdown",
   "metadata": {},
   "source": [
    "Now Make a company class where I specify the number of Employees by giving a list of charechteristics. Plug this into a Company class with a list of the generated employees."
   ]
  },
  {
   "cell_type": "code",
   "execution_count": 61,
   "metadata": {},
   "outputs": [
    {
     "data": {
      "text/plain": [
       "[<__main__.Employee at 0x271c2e76400>,\n",
       " <__main__.Employee at 0x271c2e76438>,\n",
       " <__main__.Employee at 0x271c2e76470>]"
      ]
     },
     "execution_count": 61,
     "metadata": {},
     "output_type": "execute_result"
    }
   ],
   "source": [
    "employee_List = [[21,70,1],[17,71,10],[23,60,10]]\n",
    "\n",
    "class Company():\n",
    "    def __init__(self,employee_features):\n",
    "        self.employees = []\n",
    "        for prospecting_employee in employee_features:\n",
    "            age = prospecting_employee[0]\n",
    "            height = prospecting_employee[1]\n",
    "            travel = prospecting_employee[2]\n",
    "            self.employees.append(Employee(age,height,travel))\n",
    "            \n",
    "Ls = Company(employee_List)\n",
    "Ls.employees"
   ]
  },
  {
   "cell_type": "markdown",
   "metadata": {},
   "source": [
    "## Special Class Functions\n"
   ]
  },
  {
   "cell_type": "code",
   "execution_count": 49,
   "metadata": {},
   "outputs": [],
   "source": [
    "class Number():\n",
    "    def __init__(self,n :int):\n",
    "        self.n = n\n",
    "    def __add__(self,n):\n",
    "        return Number(self.n+n.n)\n",
    "    def __sub__(self,n):\n",
    "        return Number(self.n-n.n)\n",
    "    def __mul__(self,n):\n",
    "        return Number(self.n*n.n)\n",
    "    def __truediv__(self,n):\n",
    "        return Number(self.n/n.n)\n",
    "    def __floordiv__(self,n):\n",
    "        return Number(self.n/n.n)"
   ]
  },
  {
   "cell_type": "code",
   "execution_count": 54,
   "metadata": {},
   "outputs": [],
   "source": [
    "One = Number(1)\n",
    "Two = Number(2)"
   ]
  },
  {
   "cell_type": "code",
   "execution_count": 58,
   "metadata": {},
   "outputs": [
    {
     "name": "stdout",
     "output_type": "stream",
     "text": [
      "0.5\n"
     ]
    }
   ],
   "source": [
    "print((One/Two).n)"
   ]
  },
  {
   "cell_type": "markdown",
   "metadata": {},
   "source": [
    "An example of special class functions. They start with two underscores and are called under special conditions in python"
   ]
  },
  {
   "cell_type": "code",
   "execution_count": 60,
   "metadata": {},
   "outputs": [],
   "source": [
    "class ListWrapper():\n",
    "    def __init__(self,myList):\n",
    "        self.myList = myList\n",
    "    def __getitem__(self,n):\n",
    "        return self.myList[n]\n",
    "    def __setitem__(self,n,inp):\n",
    "        self.myList[n] = inp"
   ]
  },
  {
   "cell_type": "code",
   "execution_count": 61,
   "metadata": {},
   "outputs": [],
   "source": [
    "M = ListWrapper([1,2,3,2,1])"
   ]
  },
  {
   "cell_type": "code",
   "execution_count": 45,
   "metadata": {},
   "outputs": [
    {
     "data": {
      "text/plain": [
       "[1, 2, 3]"
      ]
     },
     "execution_count": 45,
     "metadata": {},
     "output_type": "execute_result"
    }
   ],
   "source": [
    "M[0:3]\n"
   ]
  },
  {
   "cell_type": "code",
   "execution_count": 46,
   "metadata": {},
   "outputs": [],
   "source": [
    "M[0] = 2"
   ]
  },
  {
   "cell_type": "code",
   "execution_count": 47,
   "metadata": {},
   "outputs": [
    {
     "name": "stdout",
     "output_type": "stream",
     "text": [
      "2\n",
      "2\n",
      "3\n",
      "2\n",
      "1\n"
     ]
    }
   ],
   "source": [
    "for i in M:\n",
    "    print(i)"
   ]
  },
  {
   "cell_type": "markdown",
   "metadata": {},
   "source": [
    "### Practice"
   ]
  },
  {
   "cell_type": "markdown",
   "metadata": {},
   "source": [
    "Make me a class called square that can find its own area for a given a side-length"
   ]
  },
  {
   "cell_type": "code",
   "execution_count": 76,
   "metadata": {},
   "outputs": [],
   "source": [
    "class Square():\n",
    "    def __init__(self,side_length):\n",
    "        self.sl = side_length\n",
    "    def find_area(self):\n",
    "        return self.sl**2"
   ]
  },
  {
   "cell_type": "code",
   "execution_count": 78,
   "metadata": {},
   "outputs": [
    {
     "name": "stdout",
     "output_type": "stream",
     "text": [
      "Square Length:10\n",
      "100\n",
      "<__main__.Square object at 0x000001F0AC634EB8>\n"
     ]
    }
   ],
   "source": [
    "\n",
    "A = int(input(\"Square Length:\"))\n",
    "Sq = Square(A)\n",
    "print(Sq.find_area())\n",
    "print(Sq)\n"
   ]
  },
  {
   "cell_type": "markdown",
   "metadata": {},
   "source": [
    "Make a house with a size, number of doors, and a special class function add that adds size and number of doors."
   ]
  },
  {
   "cell_type": "code",
   "execution_count": 83,
   "metadata": {},
   "outputs": [],
   "source": [
    "class House():\n",
    "    def __init__(self,size,door_count):\n",
    "        self.size = size\n",
    "        self.door_count = door_count\n",
    "    def __add__(self,other):\n",
    "        return House(self.size+other.size,self.door_count+other.door_count)"
   ]
  },
  {
   "cell_type": "code",
   "execution_count": 85,
   "metadata": {},
   "outputs": [],
   "source": [
    "H = House(10,10)+House(10,10)"
   ]
  },
  {
   "cell_type": "code",
   "execution_count": 88,
   "metadata": {},
   "outputs": [
    {
     "data": {
      "text/plain": [
       "(20, 20)"
      ]
     },
     "execution_count": 88,
     "metadata": {},
     "output_type": "execute_result"
    }
   ],
   "source": [
    "(H.size,H.door_count)"
   ]
  },
  {
   "cell_type": "code",
   "execution_count": 91,
   "metadata": {},
   "outputs": [
    {
     "data": {
      "text/plain": [
       "['A', 'B', 'C']"
      ]
     },
     "execution_count": 91,
     "metadata": {},
     "output_type": "execute_result"
    }
   ],
   "source": [
    "[\"A\",\"B\",\"C\"]"
   ]
  },
  {
   "cell_type": "code",
   "execution_count": 106,
   "metadata": {},
   "outputs": [
    {
     "name": "stdout",
     "output_type": "stream",
     "text": [
      "{1, 2, 3}\n"
     ]
    }
   ],
   "source": [
    "A = {1,3,2,2}\n",
    "print(A)"
   ]
  },
  {
   "cell_type": "code",
   "execution_count": 109,
   "metadata": {},
   "outputs": [],
   "source": [
    "A = dict()\n",
    "A[\"Cat\"] = 0\n",
    "A[\"Dog\"] = 1\n",
    "A[\"Bird\"] = 2"
   ]
  },
  {
   "cell_type": "code",
   "execution_count": 113,
   "metadata": {},
   "outputs": [
    {
     "name": "stdout",
     "output_type": "stream",
     "text": [
      "{'Dog': 1, 'Bird': 2, 'Cat': 0}\n"
     ]
    },
    {
     "ename": "KeyError",
     "evalue": "('Cat', 'Dog')",
     "output_type": "error",
     "traceback": [
      "\u001b[1;31m---------------------------------------------------------------------------\u001b[0m",
      "\u001b[1;31mKeyError\u001b[0m                                  Traceback (most recent call last)",
      "\u001b[1;32m<ipython-input-113-0cf866d32fe6>\u001b[0m in \u001b[0;36m<module>\u001b[1;34m()\u001b[0m\n\u001b[0;32m      1\u001b[0m \u001b[0mprint\u001b[0m\u001b[1;33m(\u001b[0m\u001b[0mA\u001b[0m\u001b[1;33m)\u001b[0m\u001b[1;33m\u001b[0m\u001b[0m\n\u001b[1;32m----> 2\u001b[1;33m \u001b[0mprint\u001b[0m\u001b[1;33m(\u001b[0m\u001b[0mA\u001b[0m\u001b[1;33m[\u001b[0m\u001b[1;34m\"Cat\"\u001b[0m\u001b[1;33m,\u001b[0m\u001b[1;34m\"Dog\"\u001b[0m\u001b[1;33m]\u001b[0m\u001b[1;33m)\u001b[0m\u001b[1;33m\u001b[0m\u001b[0m\n\u001b[0m",
      "\u001b[1;31mKeyError\u001b[0m: ('Cat', 'Dog')"
     ]
    }
   ],
   "source": [
    "print(A)\n",
    "print(A[\"Cat\"])"
   ]
  },
  {
   "cell_type": "markdown",
   "metadata": {},
   "source": [
    "Pick three words and write down their denenitions in a dictionary"
   ]
  },
  {
   "cell_type": "code",
   "execution_count": 114,
   "metadata": {},
   "outputs": [],
   "source": [
    "import numpy as np"
   ]
  },
  {
   "cell_type": "code",
   "execution_count": 119,
   "metadata": {},
   "outputs": [
    {
     "name": "stdout",
     "output_type": "stream",
     "text": [
      "[[1 2 3]\n",
      " [1 2 3]]\n",
      "[[0. 0. 0. 0. 0. 0. 0. 0. 0. 0.]\n",
      " [0. 0. 0. 0. 0. 0. 0. 0. 0. 0.]\n",
      " [0. 0. 0. 0. 0. 0. 0. 0. 0. 0.]\n",
      " [0. 0. 0. 0. 0. 0. 0. 0. 0. 0.]\n",
      " [0. 0. 0. 0. 0. 0. 0. 0. 0. 0.]\n",
      " [0. 0. 0. 0. 0. 0. 0. 0. 0. 0.]\n",
      " [0. 0. 0. 0. 0. 0. 0. 0. 0. 0.]\n",
      " [0. 0. 0. 0. 0. 0. 0. 0. 0. 0.]\n",
      " [0. 0. 0. 0. 0. 0. 0. 0. 0. 0.]\n",
      " [0. 0. 0. 0. 0. 0. 0. 0. 0. 0.]]\n",
      "[[1. 1. 1. 1. 1. 1. 1. 1. 1. 1.]\n",
      " [1. 1. 1. 1. 1. 1. 1. 1. 1. 1.]\n",
      " [1. 1. 1. 1. 1. 1. 1. 1. 1. 1.]\n",
      " [1. 1. 1. 1. 1. 1. 1. 1. 1. 1.]\n",
      " [1. 1. 1. 1. 1. 1. 1. 1. 1. 1.]\n",
      " [1. 1. 1. 1. 1. 1. 1. 1. 1. 1.]\n",
      " [1. 1. 1. 1. 1. 1. 1. 1. 1. 1.]\n",
      " [1. 1. 1. 1. 1. 1. 1. 1. 1. 1.]\n",
      " [1. 1. 1. 1. 1. 1. 1. 1. 1. 1.]\n",
      " [1. 1. 1. 1. 1. 1. 1. 1. 1. 1.]]\n"
     ]
    }
   ],
   "source": [
    "print(np.array([[1,2,3],[1,2,3]]))\n",
    "print(np.zeros((10,10)))\n",
    "print(np.ones((10,10)))"
   ]
  },
  {
   "cell_type": "code",
   "execution_count": 126,
   "metadata": {},
   "outputs": [
    {
     "data": {
      "text/plain": [
       "array([[ 0.71347735,  0.90064298,  0.64667969,  0.38196587, -0.42308235,\n",
       "         0.47517565, -0.87340051,  0.85603858,  0.79892755, -1.56731353],\n",
       "       [ 0.9760204 ,  0.30385777, -1.62737828,  0.91963799,  0.3473697 ,\n",
       "         0.78914547,  0.64978512,  1.14385082,  1.52653285,  1.79347214],\n",
       "       [-1.25230275,  0.60909889,  1.17386834,  1.1963373 , -0.32769881,\n",
       "        -2.69483443, -2.57115011,  0.90387595,  1.39105392, -1.30551001],\n",
       "       [-0.2929762 , -1.79878481, -0.71249284, -0.63268425,  1.04948878,\n",
       "        -1.41398763, -0.87657135,  1.22254961, -0.91738313, -0.65072219],\n",
       "       [ 2.51496233,  0.57965229, -1.96394109,  0.25199568, -0.49162708,\n",
       "        -1.01066917, -0.19964206, -0.5705831 ,  1.06462784,  0.25234137],\n",
       "       [-0.31820568, -1.27906919,  0.03087226, -1.40410256,  1.11784308,\n",
       "        -0.32940081,  1.41206074, -1.24789023, -0.04948761, -0.49992448],\n",
       "       [ 1.4249281 , -0.53040782,  0.23868766,  0.61056505,  0.50194387,\n",
       "        -0.40922714, -1.45206595, -1.35891231, -0.31464443, -0.63099154],\n",
       "       [-0.78717535,  0.13479022, -0.51592599,  0.46606139,  0.48181689,\n",
       "         0.17604846,  0.24898549,  0.66691674, -0.94712015, -0.58714732],\n",
       "       [ 1.30078835,  1.67701666,  0.68822466, -0.13666585,  2.05487133,\n",
       "         1.25113705, -0.65349746,  0.10327904, -1.30690218,  0.17786096],\n",
       "       [ 0.87250691,  1.4693336 , -1.65768414,  0.58433298,  0.81154316,\n",
       "         0.05046748,  0.72948167,  0.06518131,  0.10475506,  0.10196936]])"
      ]
     },
     "execution_count": 126,
     "metadata": {},
     "output_type": "execute_result"
    }
   ],
   "source": [
    "np.random.normal(size=(10,10))"
   ]
  },
  {
   "cell_type": "markdown",
   "metadata": {},
   "source": [
    "Make a gameboard for a new game. The first layer is the peices (zeroes). The second layers is the resources random. The third layer is ones."
   ]
  },
  {
   "cell_type": "code",
   "execution_count": 145,
   "metadata": {},
   "outputs": [],
   "source": [
    "First_layer = np.zeros((10,10))\n",
    "Second_layer = np.random.normal(size=(10,10))\n",
    "Third_layer = np.ones((10,10))"
   ]
  },
  {
   "cell_type": "code",
   "execution_count": 151,
   "metadata": {},
   "outputs": [],
   "source": [
    "stacked = np.stack((First_layer,Second_layer,Third_layer))"
   ]
  },
  {
   "cell_type": "code",
   "execution_count": 152,
   "metadata": {},
   "outputs": [
    {
     "data": {
      "text/plain": [
       "(3, 10, 10)"
      ]
     },
     "execution_count": 152,
     "metadata": {},
     "output_type": "execute_result"
    }
   ],
   "source": [
    "stacked.shape"
   ]
  },
  {
   "cell_type": "code",
   "execution_count": 155,
   "metadata": {},
   "outputs": [
    {
     "name": "stdout",
     "output_type": "stream",
     "text": [
      "[[ 0.          0.          0.          0.          0.          0.\n",
      "   0.          0.          0.          0.        ]\n",
      " [ 1.8697648  -0.12049569  0.00263575  0.95945487 -0.40945573  0.68870718\n",
      "  -1.49553281  0.0862167   0.19739461 -1.06848789]\n",
      " [ 1.          1.          1.          1.          1.          1.\n",
      "   1.          1.          1.          1.        ]]\n"
     ]
    }
   ],
   "source": [
    "print(stacked[1,0,0])"
   ]
  },
  {
   "cell_type": "code",
   "execution_count": 157,
   "metadata": {},
   "outputs": [
    {
     "ename": "ImportError",
     "evalue": "No module named 'matplotlib'",
     "output_type": "error",
     "traceback": [
      "\u001b[1;31m---------------------------------------------------------------------------\u001b[0m",
      "\u001b[1;31mImportError\u001b[0m                               Traceback (most recent call last)",
      "\u001b[1;32m<ipython-input-157-5488f68f4e64>\u001b[0m in \u001b[0;36m<module>\u001b[1;34m()\u001b[0m\n\u001b[1;32m----> 1\u001b[1;33m \u001b[1;32mimport\u001b[0m \u001b[0mmatplotlib\u001b[0m \u001b[1;32mas\u001b[0m \u001b[0mplt\u001b[0m\u001b[1;33m\u001b[0m\u001b[0m\n\u001b[0m",
      "\u001b[1;31mImportError\u001b[0m: No module named 'matplotlib'"
     ]
    }
   ],
   "source": []
  },
  {
   "cell_type": "code",
   "execution_count": null,
   "metadata": {},
   "outputs": [],
   "source": []
  }
 ],
 "metadata": {
  "kernelspec": {
   "display_name": "Python 3",
   "language": "python",
   "name": "python3"
  },
  "language_info": {
   "codemirror_mode": {
    "name": "ipython",
    "version": 3
   },
   "file_extension": ".py",
   "mimetype": "text/x-python",
   "name": "python",
   "nbconvert_exporter": "python",
   "pygments_lexer": "ipython3",
   "version": "3.5.6"
  }
 },
 "nbformat": 4,
 "nbformat_minor": 4
}
